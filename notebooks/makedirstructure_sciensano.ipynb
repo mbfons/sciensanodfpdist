{
  "cells": [
    {
      "cell_type": "markdown",
      "metadata": {
        "id": "lzyz-5izgW7H"
      },
      "source": [
        "# Health Information portal"
      ]
    },
    {
      "cell_type": "markdown",
      "metadata": {
        "id": "V40S_7d_eXJL"
      },
      "source": [
        "## Libraries"
      ]
    },
    {
      "cell_type": "code",
      "execution_count": null,
      "metadata": {
        "id": "WoAGQOtCYSpw"
      },
      "outputs": [],
      "source": [
        "from rdflib import Graph, URIRef, BNode, Literal, Namespace\n",
        "import requests, os, pathlib\n",
        "from pathlib import Path"
      ]
    },
    {
      "cell_type": "markdown",
      "metadata": {},
      "source": [
        "### Get data catalogs in an FDP"
      ]
    },
    {
      "cell_type": "code",
      "execution_count": null,
      "metadata": {},
      "outputs": [],
      "source": [
        "# tbd"
      ]
    },
    {
      "cell_type": "markdown",
      "metadata": {
        "id": "mnqOGblDTTEW"
      },
      "source": [
        "## Get data catalog\n",
        "\n",
        "e.g. found uuid for Belgian Node here https://fair.healthinformationportal.eu/"
      ]
    },
    {
      "cell_type": "code",
      "execution_count": null,
      "metadata": {
        "id": "uqwyyz79OZ29"
      },
      "outputs": [],
      "source": [
        "mycatalog = '743a4ddb-b3b3-4c78-8bad-ab8d7d9b0f51'\n",
        "myfdp = 'https://fair.healthinformationportal.eu/catalog/'\n",
        "uribe = myfdp+mycatalog+'/'"
      ]
    },
    {
      "cell_type": "code",
      "execution_count": null,
      "metadata": {
        "id": "eBgiVKKcUV61"
      },
      "outputs": [],
      "source": [
        "mysyntax = 'text/turtle'\n",
        "#mysyntax = 'application/ld+json'\n",
        "#mysyntax = 'application/rdf+xml'\n",
        "#mysyntax = 'text/n3'\n",
        "headers = {'Accept': mysyntax}"
      ]
    },
    {
      "cell_type": "code",
      "execution_count": null,
      "metadata": {
        "colab": {
          "base_uri": "https://localhost:8080/"
        },
        "id": "_J6pyPG3Phvb",
        "outputId": "9dbcaa1e-a26f-426b-96c2-eda85172d527"
      },
      "outputs": [],
      "source": [
        "resbe = requests.get(url=uribe, headers=headers)\n",
        "print(resbe.text)"
      ]
    },
    {
      "cell_type": "markdown",
      "metadata": {
        "id": "Jdzu1GFwVswi"
      },
      "source": [
        "## Get Data Catalog and its children\n",
        "\n",
        "https://fair.healthinformationportal.eu/swagger-ui/index.html#/Metadata%3A%20Catalog/getCatalogExpanded"
      ]
    },
    {
      "cell_type": "code",
      "execution_count": null,
      "metadata": {
        "id": "-2BP901UTynj"
      },
      "outputs": [],
      "source": [
        "uribeexp = uribe + 'expanded'"
      ]
    },
    {
      "cell_type": "code",
      "execution_count": null,
      "metadata": {
        "id": "D4GV00nMWEWc"
      },
      "outputs": [],
      "source": [
        "mysyntax = 'text/turtle'\n",
        "#mysyntax = 'application/ld+json'\n",
        "#mysyntax = 'application/rdf+xml'\n",
        "#mysyntax = 'text/n3'\n",
        "headers = {'Accept': mysyntax}"
      ]
    },
    {
      "cell_type": "code",
      "execution_count": null,
      "metadata": {
        "colab": {
          "base_uri": "https://localhost:8080/"
        },
        "id": "cO3Kt5MmWK6k",
        "outputId": "eb38afc9-8462-44bc-f964-03ae3911d18f"
      },
      "outputs": [],
      "source": [
        "resbe = requests.get(url=uribeexp, headers=headers)"
      ]
    },
    {
      "cell_type": "markdown",
      "metadata": {
        "id": "tit1t4doYy3l"
      },
      "source": [
        "## Turn to graph"
      ]
    },
    {
      "cell_type": "code",
      "execution_count": null,
      "metadata": {
        "id": "inkYUi_tZYAy"
      },
      "outputs": [],
      "source": [
        "resbe_gr = Graph().parse(data=resbe.text)"
      ]
    },
    {
      "cell_type": "markdown",
      "metadata": {
        "id": "9TEV-tPBa7nL"
      },
      "source": [
        "## Enumerate datasets via iterator"
      ]
    },
    {
      "cell_type": "code",
      "execution_count": null,
      "metadata": {
        "id": "EVnVIElzXjA9"
      },
      "outputs": [],
      "source": [
        "from rdflib.namespace import CSVW, DC, DCAT, DCTERMS, DOAP, FOAF, ODRL2, ORG, OWL, PROF, PROV, RDF, RDFS, SDO, SH, SKOS, SOSA, SSN, TIME, VOID, XMLNS, XSD"
      ]
    },
    {
      "cell_type": "code",
      "execution_count": null,
      "metadata": {
        "id": "DP83b6iWaTIr"
      },
      "outputs": [],
      "source": [
        "#for s,p,o in resbe_gr:\n",
        "  #print(s+\"===\"+p+\"===\"+o)"
      ]
    },
    {
      "cell_type": "code",
      "execution_count": null,
      "metadata": {
        "id": "WosmtO8radtN"
      },
      "outputs": [],
      "source": [
        "dbbe_list = []\n",
        "for s,p,o in resbe_gr.triples((None,DCAT['dataset'],None)):\n",
        "  #print(o)\n",
        "  dbbe_list.append(o)"
      ]
    },
    {
      "cell_type": "code",
      "execution_count": null,
      "metadata": {
        "colab": {
          "base_uri": "https://localhost:8080/"
        },
        "id": "_b7jWmmabWsY",
        "outputId": "94961759-f866-48cd-cbf9-bd03c800e0dc"
      },
      "outputs": [],
      "source": [
        "dbbe_list"
      ]
    },
    {
      "cell_type": "code",
      "execution_count": null,
      "metadata": {
        "id": "KFvyWuyAb359"
      },
      "outputs": [],
      "source": [
        "dbbe_list_e = [db[:].split('/')[-1] for db in dbbe_list]   # keep only uuid, last part of url"
      ]
    },
    {
      "cell_type": "markdown",
      "metadata": {},
      "source": [
        "Create directories"
      ]
    },
    {
      "cell_type": "code",
      "execution_count": null,
      "metadata": {},
      "outputs": [],
      "source": [
        "for duuid in dbbe_list_e:\n",
        "    Path('../opendistributions/'+mycatalog+'/'+duuid).mkdir(parents=True, exist_ok=True)\n",
        "\n",
        "    f = open('../opendistributions/'+mycatalog+'/'+duuid+\"/readme.txt\", \"a\")\n",
        "    f.write(\"A place to include open distributions content!\")\n",
        "    f.close()"
      ]
    },
    {
      "cell_type": "code",
      "execution_count": null,
      "metadata": {},
      "outputs": [],
      "source": []
    },
    {
      "cell_type": "markdown",
      "metadata": {
        "id": "TAp27hI7cA8r"
      },
      "source": [
        "## Enumerate datasets via query"
      ]
    },
    {
      "cell_type": "code",
      "execution_count": null,
      "metadata": {
        "id": "s3Wm0eLFWXAA"
      },
      "outputs": [],
      "source": [
        "datasets_query = \"\"\"\n",
        "SELECT DISTINCT ?o\n",
        "WHERE {\n",
        "  ?s dcat:dataset ?o .\n",
        "}\"\"\""
      ]
    },
    {
      "cell_type": "code",
      "execution_count": null,
      "metadata": {
        "id": "CJyi-I30cDvW"
      },
      "outputs": [],
      "source": [
        "qres = resbe_gr.query(datasets_query)"
      ]
    },
    {
      "cell_type": "code",
      "execution_count": null,
      "metadata": {
        "id": "dtURUFUycUoV"
      },
      "outputs": [],
      "source": [
        "dbbe_list_m2 = []\n",
        "for row in qres:\n",
        "  dbbe_list_m2.append(row.o)"
      ]
    },
    {
      "cell_type": "code",
      "execution_count": null,
      "metadata": {
        "colab": {
          "base_uri": "https://localhost:8080/"
        },
        "id": "DCsAIZ2SclTO",
        "outputId": "24f73734-40a7-42c0-fabd-4be52d2b9566"
      },
      "outputs": [],
      "source": [
        "dbbe_list_m2"
      ]
    },
    {
      "cell_type": "markdown",
      "metadata": {
        "id": "W0m0OT_PeGLw"
      },
      "source": [
        "## Query datasets\n",
        "(restricted to three here)"
      ]
    },
    {
      "cell_type": "code",
      "execution_count": null,
      "metadata": {
        "id": "fQhwZOuFcmeh"
      },
      "outputs": [],
      "source": [
        "mydb = dbbe_list_m2[0:3]"
      ]
    },
    {
      "cell_type": "code",
      "execution_count": null,
      "metadata": {
        "colab": {
          "base_uri": "https://localhost:8080/"
        },
        "id": "no2tGQAwfYJI",
        "outputId": "a0f70687-a681-452d-9618-5c544a7e1f67"
      },
      "outputs": [],
      "source": [
        "mydb"
      ]
    },
    {
      "cell_type": "code",
      "execution_count": null,
      "metadata": {
        "id": "OwvmC-yMekXc"
      },
      "outputs": [],
      "source": [
        "res_all = Graph()\n",
        "for urin in mydb:\n",
        "\n",
        "  res = requests.get(url=urin, headers=headers)\n",
        "  gres = Graph().parse(data=res.text)\n",
        "\n",
        "  res_all = res_all + gres"
      ]
    },
    {
      "cell_type": "code",
      "execution_count": null,
      "metadata": {},
      "outputs": [],
      "source": []
    },
    {
      "cell_type": "code",
      "execution_count": null,
      "metadata": {
        "colab": {
          "base_uri": "https://localhost:8080/"
        },
        "id": "EraKWyXievv2",
        "outputId": "28fb2282-4196-4e8f-935c-a86c234026c3"
      },
      "outputs": [],
      "source": [
        "#print(res_all.serialize())"
      ]
    },
    {
      "cell_type": "code",
      "execution_count": null,
      "metadata": {},
      "outputs": [],
      "source": []
    },
    {
      "cell_type": "markdown",
      "metadata": {
        "id": "mT1NiFH6fCOc"
      },
      "source": [
        "### Make dir structure"
      ]
    }
  ],
  "metadata": {
    "colab": {
      "provenance": [],
      "toc_visible": true
    },
    "kernelspec": {
      "display_name": "Python 3",
      "name": "python3"
    },
    "language_info": {
      "codemirror_mode": {
        "name": "ipython",
        "version": 3
      },
      "file_extension": ".py",
      "mimetype": "text/x-python",
      "name": "python",
      "nbconvert_exporter": "python",
      "pygments_lexer": "ipython3",
      "version": "3.11.9"
    }
  },
  "nbformat": 4,
  "nbformat_minor": 0
}
